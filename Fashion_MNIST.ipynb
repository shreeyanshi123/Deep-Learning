{
  "cells": [
    {
      "cell_type": "markdown",
      "metadata": {
        "id": "view-in-github",
        "colab_type": "text"
      },
      "source": [
        "<a href=\"https://colab.research.google.com/github/shreeyanshi123/My-Repo/blob/main/Fashion_MNIST.ipynb\" target=\"_parent\"><img src=\"https://colab.research.google.com/assets/colab-badge.svg\" alt=\"Open In Colab\"/></a>"
      ]
    },
    {
      "cell_type": "code",
      "execution_count": null,
      "metadata": {
        "id": "wzCohYstEexW"
      },
      "outputs": [],
      "source": [
        "import tensorflow\n",
        "from tensorflow import keras\n",
        "from tensorflow.keras.models import Sequential\n",
        "from tensorflow.keras.layers import Dense,Flatten,Conv2D,MaxPooling2D\n",
        "from tensorflow.keras.preprocessing.image import ImageDataGenerator\n"
      ]
    },
    {
      "cell_type": "code",
      "execution_count": null,
      "metadata": {
        "colab": {
          "base_uri": "https://localhost:8080/"
        },
        "id": "9OAESqogF5cY",
        "outputId": "7bf6bc7d-2dc0-4de7-908c-ec5eee01d7d5"
      },
      "outputs": [
        {
          "name": "stdout",
          "output_type": "stream",
          "text": [
            "Downloading data from https://storage.googleapis.com/tensorflow/tf-keras-datasets/train-labels-idx1-ubyte.gz\n",
            "29515/29515 [==============================] - 0s 0us/step\n",
            "Downloading data from https://storage.googleapis.com/tensorflow/tf-keras-datasets/train-images-idx3-ubyte.gz\n",
            "26421880/26421880 [==============================] - 0s 0us/step\n",
            "Downloading data from https://storage.googleapis.com/tensorflow/tf-keras-datasets/t10k-labels-idx1-ubyte.gz\n",
            "5148/5148 [==============================] - 0s 0us/step\n",
            "Downloading data from https://storage.googleapis.com/tensorflow/tf-keras-datasets/t10k-images-idx3-ubyte.gz\n",
            "4422102/4422102 [==============================] - 0s 0us/step\n"
          ]
        }
      ],
      "source": [
        "mnist=keras.datasets.fashion_mnist\n",
        "(x_train,y_train),(x_test,y_test)=mnist.load_data()"
      ]
    },
    {
      "cell_type": "code",
      "execution_count": null,
      "metadata": {
        "colab": {
          "base_uri": "https://localhost:8080/",
          "height": 69
        },
        "id": "iCoAGGqjGJvo",
        "outputId": "146c95f3-f173-4830-ee90-ff626919e8b6"
      },
      "outputs": [
        {
          "data": {
            "text/html": [
              "<style>\n",
              "      .ndarray_repr .ndarray_raw_data {\n",
              "        display: none;\n",
              "      }\n",
              "      .ndarray_repr.show_array .ndarray_raw_data {\n",
              "        display: block;\n",
              "      }\n",
              "      .ndarray_repr.show_array .ndarray_image_preview {\n",
              "        display: none;\n",
              "      }\n",
              "      </style>\n",
              "      <div id=\"id-471aa173-6a2a-4e7f-80e7-8e0fe326aa1c\" class=\"ndarray_repr\"><pre>ndarray (28, 28) <button style=\"padding: 0 2px;\">show data</button></pre><img src=\"data:image/png;base64,iVBORw0KGgoAAAANSUhEUgAAABwAAAAcCAAAAABXZoBIAAACKElEQVR4nE3QsU8UURAG8G/mvX13e3vHnQoIQkKCFhrRxEQbbAwQO40xdrT2WvsHaGJrZWNiIYWJmmiipdEKxYgNCagQAoJHgDu8g+P29r03Fu4iU84v30xmCABIAPSO3d6Zjyuj0/f20w7on3Xfmci1zOkSkl+/w9rHR3X8x5NvNtqJi2tFF5sebUzr8csMgefdtUASH8exKQcENsGNXQAaAPr7GsYWIvbO5SNn3W47uj6V4ZE+ZyKb88SiyJPr2TITB3he9TG31xeX99p7Se7ctf1KMfq/c2By5P48UAjDKL/3EzMDrfqlLPnQv5/tmqfG9k4iVD67OLm7HR8kx8e7rz79UD5VFB10/FzzVqd+c7SW4kyyHh2/gCR2YpWJ6p+rb4tPsrGvxi6+e927ooJQwbaS0tDdoSuzsyme2a9OXx4RBS9Eylenvi2tLmTJYT1YbdkmW+WFCklPqzRY6VsCGAC47ZoFr3SgtVFs1BaOmhPIkHw99CwQQeIVb7SdlDKE8tUQIE/M7AQxsVMZCqgeiPfWewdrKdwh5A+SAPKemCHipcPhD+0pwyYxQhIPIVLSIV7Rko01wg0EBAkE0ORFLwcuSO8U0WtQ4kFE3rO40nctlD1BeA0sASsPEkcozzEdwhXEm00Lx0SUyxfXyOsUidBELpccs5ZA3Ij620abFFXHEl50bSoHReTtny+wjlMMmSt4gMMlVEmxtrD6CQQ5hM+GvwL4C+Bh+/WBv3Z5AAAAAElFTkSuQmCC\" class=\"ndarray_image_preview\" /><pre class=\"ndarray_raw_data\">array([[  0,   0,   0,   0,   1,   0,   0,   0,   0,  22,  88, 188, 172,\n",
              "        132, 125, 141, 199, 143,   9,   0,   0,   0,   1,   0,   0,   0,\n",
              "          0,   0],\n",
              "       [  0,   0,   0,   1,   0,   0,  20, 131, 199, 206, 196, 202, 242,\n",
              "        255, 255, 250, 222, 197, 206, 188, 126,  17,   0,   0,   0,   0,\n",
              "          0,   0],\n",
              "       [  0,   0,   0,   1,   0,  35, 214, 191, 183, 178, 175, 168, 150,\n",
              "        162, 159, 152, 158, 179, 183, 189, 195, 185,  82,   0,   0,   0,\n",
              "          0,   0],\n",
              "       [  0,   0,   0,   0,   0, 170, 190, 172, 177, 176, 171, 169, 162,\n",
              "        155, 148, 154, 169, 174, 175, 175, 177, 183, 188,  12,   0,   0,\n",
              "          0,   0],\n",
              "       [  0,   0,   0,   0,  25, 194, 180, 178, 174, 184, 187, 189, 187,\n",
              "        184, 181, 189, 200, 197, 193, 190, 178, 175, 194,  90,   0,   0,\n",
              "          0,   0],\n",
              "       [  0,   0,   0,   0,  42, 218, 191, 197, 208, 204, 211, 209, 210,\n",
              "        212, 211, 214, 215, 213, 214, 211, 211, 191, 200, 158,   0,   0,\n",
              "          0,   0],\n",
              "       [  0,   0,   0,   0,  88, 221, 215, 217, 219, 211, 185, 150, 118,\n",
              "        107,  99,  88,  83,  90, 135, 212, 203, 207, 219, 169,   0,   0,\n",
              "          0,   0],\n",
              "       [  0,   0,   0,   0,   0,  27, 118, 162,  40,   0,   0,   0,  10,\n",
              "         19,  28,  39,  47,  36,   0,   0, 203, 230, 220, 203,   0,   0,\n",
              "          0,   0],\n",
              "       [  0,   0,   0,   0, 138, 136,  71,  69,  54, 216, 217, 203, 184,\n",
              "        168, 163, 162, 163, 178, 221, 186,  38,  26,   7,   0,   0,   0,\n",
              "          0,   0],\n",
              "       [  0,   0,   0,   0,  67, 134, 154, 224, 129,  66,  81, 117, 129,\n",
              "        128, 132, 137, 131, 129,  86,  73, 157, 151, 134, 216,  18,   0,\n",
              "          0,   0],\n",
              "       [  0,   0,   0,   0, 203, 198, 172, 183, 206, 255, 255, 250, 243,\n",
              "        240, 239, 235, 238, 244, 255, 238, 184, 160,  86,  98,   0,   0,\n",
              "          0,   0],\n",
              "       [  0,   0,   0,   0, 122, 188, 224, 151, 105, 127,  97, 100, 105,\n",
              "        114, 117, 117, 113, 103,  98, 111, 142, 254, 191, 255,  49,   0,\n",
              "          0,   0],\n",
              "       [  0,   0,   0,   0, 163, 179, 200,  95, 154, 198, 197, 200, 200,\n",
              "        198, 197, 198, 199, 202, 200, 176,  86, 206, 157, 162,  10,   0,\n",
              "          0,   0],\n",
              "       [  0,   0,   0,   0, 197, 201, 229,  71, 144, 194, 181, 183, 179,\n",
              "        182, 180, 179, 180, 190, 185, 197,  76, 219, 185, 201,  34,   0,\n",
              "          0,   0],\n",
              "       [  0,   0,   0,   0, 199, 193, 226,  58, 154, 192, 184, 187, 184,\n",
              "        186, 184, 185, 183, 192, 191, 200,  56, 219, 203, 207,  60,   0,\n",
              "          0,   0],\n",
              "       [  0,   0,   0,   0, 201, 194, 224,  41, 163, 190, 186, 186, 184,\n",
              "        185, 183, 185, 178, 190, 194, 202,  33, 211, 200, 206,  73,   0,\n",
              "          0,   0],\n",
              "       [  0,   0,   0,   0, 201, 197, 222,  17, 172, 190, 186, 187, 182,\n",
              "        186, 185, 187, 180, 187, 193, 202,  26, 212, 202, 203,  76,   0,\n",
              "          0,   0],\n",
              "       [  0,   0,   0,   0, 200, 197, 223,   0, 177, 189, 184, 185, 178,\n",
              "        184, 183, 184, 180, 183, 189, 203,  35, 196, 203, 203,  84,   0,\n",
              "          0,   0],\n",
              "       [  0,   0,   0,   0, 200, 197, 223,   0, 185, 187, 185, 187, 180,\n",
              "        184, 182, 183, 178, 182, 183, 205,  44, 159, 207, 201,  85,   0,\n",
              "          0,   0],\n",
              "       [  0,   0,   0,   0, 187, 198, 225,   0, 194, 188, 184, 185, 180,\n",
              "        183, 183, 184, 181, 181, 177, 206,  46, 129, 211, 200,  88,   0,\n",
              "          0,   0],\n",
              "       [  0,   0,   0,   6, 186, 200, 211,   0, 199, 189, 184, 184, 185,\n",
              "        182, 183, 184, 185, 182, 175, 205,  50,  97, 216, 197,  93,   0,\n",
              "          0,   0],\n",
              "       [  0,   0,   0,   5, 185, 204, 184,   0, 202, 188, 182, 182, 183,\n",
              "        183, 184, 182, 180, 182, 174, 202,  63,  59, 220, 196,  94,   0,\n",
              "          0,   0],\n",
              "       [  0,   0,   0,   5, 184, 206, 157,   0, 204, 187, 187, 189, 192,\n",
              "        190, 190, 191, 190, 187, 183, 202,  78,  35, 222, 197,  95,   0,\n",
              "          0,   0],\n",
              "       [  0,   0,   0,   5, 183, 208, 127,   0, 197, 166, 153, 149, 149,\n",
              "        146, 148, 149, 150, 151, 158, 191,  90,   8, 223, 195,  99,   0,\n",
              "          0,   0],\n",
              "       [  0,   0,   0,   6, 184, 208, 114,   0, 204, 173, 161, 180, 176,\n",
              "        172, 173, 173, 174, 176, 162, 202, 115,   0, 229, 199, 105,   0,\n",
              "          0,   0],\n",
              "       [  0,   0,   0,   9, 178, 204, 115,   0, 121, 135, 114, 117, 114,\n",
              "        114, 117, 118, 119, 117, 113, 147,  63,   0, 225, 196, 107,   0,\n",
              "          0,   0],\n",
              "       [  0,   0,   0,  18, 180, 206, 131,   0,   0,   0,   0,   0,   0,\n",
              "          0,   0,   0,   0,   0,   0,   0,   0,   0, 224, 197, 123,   0,\n",
              "          0,   0],\n",
              "       [  0,   0,   0,   0, 141, 151,  76,   0,   1,   1,   0,   0,   0,\n",
              "          0,   0,   0,   0,   0,   0,   0,   0,   0, 133, 167,  73,   0,\n",
              "          0,   0]], dtype=uint8)</pre></div><script>\n",
              "      (() => {\n",
              "      const titles = ['show data', 'hide data'];\n",
              "      let index = 0\n",
              "      document.querySelector('#id-471aa173-6a2a-4e7f-80e7-8e0fe326aa1c button').onclick = (e) => {\n",
              "        document.querySelector('#id-471aa173-6a2a-4e7f-80e7-8e0fe326aa1c').classList.toggle('show_array');\n",
              "        index = (++index) % 2;\n",
              "        document.querySelector('#id-471aa173-6a2a-4e7f-80e7-8e0fe326aa1c button').textContent = titles[index];\n",
              "        e.preventDefault();\n",
              "        e.stopPropagation();\n",
              "      }\n",
              "      })();\n",
              "    </script>"
            ],
            "text/plain": [
              "array([[  0,   0,   0,   0,   1,   0,   0,   0,   0,  22,  88, 188, 172,\n",
              "        132, 125, 141, 199, 143,   9,   0,   0,   0,   1,   0,   0,   0,\n",
              "          0,   0],\n",
              "       [  0,   0,   0,   1,   0,   0,  20, 131, 199, 206, 196, 202, 242,\n",
              "        255, 255, 250, 222, 197, 206, 188, 126,  17,   0,   0,   0,   0,\n",
              "          0,   0],\n",
              "       [  0,   0,   0,   1,   0,  35, 214, 191, 183, 178, 175, 168, 150,\n",
              "        162, 159, 152, 158, 179, 183, 189, 195, 185,  82,   0,   0,   0,\n",
              "          0,   0],\n",
              "       [  0,   0,   0,   0,   0, 170, 190, 172, 177, 176, 171, 169, 162,\n",
              "        155, 148, 154, 169, 174, 175, 175, 177, 183, 188,  12,   0,   0,\n",
              "          0,   0],\n",
              "       [  0,   0,   0,   0,  25, 194, 180, 178, 174, 184, 187, 189, 187,\n",
              "        184, 181, 189, 200, 197, 193, 190, 178, 175, 194,  90,   0,   0,\n",
              "          0,   0],\n",
              "       [  0,   0,   0,   0,  42, 218, 191, 197, 208, 204, 211, 209, 210,\n",
              "        212, 211, 214, 215, 213, 214, 211, 211, 191, 200, 158,   0,   0,\n",
              "          0,   0],\n",
              "       [  0,   0,   0,   0,  88, 221, 215, 217, 219, 211, 185, 150, 118,\n",
              "        107,  99,  88,  83,  90, 135, 212, 203, 207, 219, 169,   0,   0,\n",
              "          0,   0],\n",
              "       [  0,   0,   0,   0,   0,  27, 118, 162,  40,   0,   0,   0,  10,\n",
              "         19,  28,  39,  47,  36,   0,   0, 203, 230, 220, 203,   0,   0,\n",
              "          0,   0],\n",
              "       [  0,   0,   0,   0, 138, 136,  71,  69,  54, 216, 217, 203, 184,\n",
              "        168, 163, 162, 163, 178, 221, 186,  38,  26,   7,   0,   0,   0,\n",
              "          0,   0],\n",
              "       [  0,   0,   0,   0,  67, 134, 154, 224, 129,  66,  81, 117, 129,\n",
              "        128, 132, 137, 131, 129,  86,  73, 157, 151, 134, 216,  18,   0,\n",
              "          0,   0],\n",
              "       [  0,   0,   0,   0, 203, 198, 172, 183, 206, 255, 255, 250, 243,\n",
              "        240, 239, 235, 238, 244, 255, 238, 184, 160,  86,  98,   0,   0,\n",
              "          0,   0],\n",
              "       [  0,   0,   0,   0, 122, 188, 224, 151, 105, 127,  97, 100, 105,\n",
              "        114, 117, 117, 113, 103,  98, 111, 142, 254, 191, 255,  49,   0,\n",
              "          0,   0],\n",
              "       [  0,   0,   0,   0, 163, 179, 200,  95, 154, 198, 197, 200, 200,\n",
              "        198, 197, 198, 199, 202, 200, 176,  86, 206, 157, 162,  10,   0,\n",
              "          0,   0],\n",
              "       [  0,   0,   0,   0, 197, 201, 229,  71, 144, 194, 181, 183, 179,\n",
              "        182, 180, 179, 180, 190, 185, 197,  76, 219, 185, 201,  34,   0,\n",
              "          0,   0],\n",
              "       [  0,   0,   0,   0, 199, 193, 226,  58, 154, 192, 184, 187, 184,\n",
              "        186, 184, 185, 183, 192, 191, 200,  56, 219, 203, 207,  60,   0,\n",
              "          0,   0],\n",
              "       [  0,   0,   0,   0, 201, 194, 224,  41, 163, 190, 186, 186, 184,\n",
              "        185, 183, 185, 178, 190, 194, 202,  33, 211, 200, 206,  73,   0,\n",
              "          0,   0],\n",
              "       [  0,   0,   0,   0, 201, 197, 222,  17, 172, 190, 186, 187, 182,\n",
              "        186, 185, 187, 180, 187, 193, 202,  26, 212, 202, 203,  76,   0,\n",
              "          0,   0],\n",
              "       [  0,   0,   0,   0, 200, 197, 223,   0, 177, 189, 184, 185, 178,\n",
              "        184, 183, 184, 180, 183, 189, 203,  35, 196, 203, 203,  84,   0,\n",
              "          0,   0],\n",
              "       [  0,   0,   0,   0, 200, 197, 223,   0, 185, 187, 185, 187, 180,\n",
              "        184, 182, 183, 178, 182, 183, 205,  44, 159, 207, 201,  85,   0,\n",
              "          0,   0],\n",
              "       [  0,   0,   0,   0, 187, 198, 225,   0, 194, 188, 184, 185, 180,\n",
              "        183, 183, 184, 181, 181, 177, 206,  46, 129, 211, 200,  88,   0,\n",
              "          0,   0],\n",
              "       [  0,   0,   0,   6, 186, 200, 211,   0, 199, 189, 184, 184, 185,\n",
              "        182, 183, 184, 185, 182, 175, 205,  50,  97, 216, 197,  93,   0,\n",
              "          0,   0],\n",
              "       [  0,   0,   0,   5, 185, 204, 184,   0, 202, 188, 182, 182, 183,\n",
              "        183, 184, 182, 180, 182, 174, 202,  63,  59, 220, 196,  94,   0,\n",
              "          0,   0],\n",
              "       [  0,   0,   0,   5, 184, 206, 157,   0, 204, 187, 187, 189, 192,\n",
              "        190, 190, 191, 190, 187, 183, 202,  78,  35, 222, 197,  95,   0,\n",
              "          0,   0],\n",
              "       [  0,   0,   0,   5, 183, 208, 127,   0, 197, 166, 153, 149, 149,\n",
              "        146, 148, 149, 150, 151, 158, 191,  90,   8, 223, 195,  99,   0,\n",
              "          0,   0],\n",
              "       [  0,   0,   0,   6, 184, 208, 114,   0, 204, 173, 161, 180, 176,\n",
              "        172, 173, 173, 174, 176, 162, 202, 115,   0, 229, 199, 105,   0,\n",
              "          0,   0],\n",
              "       [  0,   0,   0,   9, 178, 204, 115,   0, 121, 135, 114, 117, 114,\n",
              "        114, 117, 118, 119, 117, 113, 147,  63,   0, 225, 196, 107,   0,\n",
              "          0,   0],\n",
              "       [  0,   0,   0,  18, 180, 206, 131,   0,   0,   0,   0,   0,   0,\n",
              "          0,   0,   0,   0,   0,   0,   0,   0,   0, 224, 197, 123,   0,\n",
              "          0,   0],\n",
              "       [  0,   0,   0,   0, 141, 151,  76,   0,   1,   1,   0,   0,   0,\n",
              "          0,   0,   0,   0,   0,   0,   0,   0,   0, 133, 167,  73,   0,\n",
              "          0,   0]], dtype=uint8)"
            ]
          },
          "execution_count": 5,
          "metadata": {},
          "output_type": "execute_result"
        }
      ],
      "source": [
        "x_train[5]"
      ]
    },
    {
      "cell_type": "code",
      "execution_count": null,
      "metadata": {
        "colab": {
          "base_uri": "https://localhost:8080/",
          "height": 447
        },
        "id": "tU6Jr4zYGfho",
        "outputId": "d4d8b2a0-1836-4f75-fa2e-dced6f6f7c88"
      },
      "outputs": [
        {
          "data": {
            "text/plain": [
              "<matplotlib.image.AxesImage at 0x7895d8902740>"
            ]
          },
          "execution_count": 6,
          "metadata": {},
          "output_type": "execute_result"
        },
        {
          "data": {
            "image/png": "[encoded data removed]",
            "text/plain": [
              "<Figure size 640x480 with 1 Axes>"
            ]
          },
          "metadata": {},
          "output_type": "display_data"
        }
      ],
      "source": [
        "import matplotlib.pyplot as plt\n",
        "plt.imshow(x_train[5])"
      ]
    },
    {
      "cell_type": "code",
      "execution_count": null,
      "metadata": {
        "colab": {
          "base_uri": "https://localhost:8080/"
        },
        "id": "tXKuKMunG3t7",
        "outputId": "08c6aa86-648e-45f1-8f03-2b9d44c09489"
      },
      "outputs": [
        {
          "data": {
            "text/plain": [
              "(60000, 28, 28)"
            ]
          },
          "execution_count": 7,
          "metadata": {},
          "output_type": "execute_result"
        }
      ],
      "source": [
        "x_train.shape"
      ]
    },
    {
      "cell_type": "code",
      "execution_count": null,
      "metadata": {
        "id": "MW9gHcFGHDsv"
      },
      "outputs": [],
      "source": [
        "x_train=x_train.reshape((60000,28,28,1))\n",
        "x_test=x_test.reshape((10000,28,28,1))"
      ]
    },
    {
      "cell_type": "code",
      "execution_count": null,
      "metadata": {
        "id": "SJPj6em-HjXd"
      },
      "outputs": [],
      "source": [
        "x_train = x_train / 255.0\n",
        "x_test = x_test / 255.0"
      ]
    },
    {
      "cell_type": "code",
      "execution_count": null,
      "metadata": {
        "colab": {
          "base_uri": "https://localhost:8080/"
        },
        "id": "s8507DWbIdke",
        "outputId": "609dc991-cbe4-4953-aca6-2f926db2b862"
      },
      "outputs": [
        {
          "data": {
            "text/plain": [
              "(60000, 28, 28, 1)"
            ]
          },
          "execution_count": 10,
          "metadata": {},
          "output_type": "execute_result"
        }
      ],
      "source": [
        "x_train.shape"
      ]
    },
    {
      "cell_type": "code",
      "execution_count": null,
      "metadata": {
        "colab": {
          "base_uri": "https://localhost:8080/"
        },
        "id": "b4s5cvz7InmT",
        "outputId": "4fbb4c75-c799-4762-b475-ba94b8c3d362"
      },
      "outputs": [
        {
          "data": {
            "text/plain": [
              "(10000, 28, 28, 1)"
            ]
          },
          "execution_count": 11,
          "metadata": {},
          "output_type": "execute_result"
        }
      ],
      "source": [
        "x_test.shape"
      ]
    },
    {
      "cell_type": "markdown",
      "metadata": {
        "id": "j_M1Nd-0JoUX"
      },
      "source": [
        "**CONVOLUTIONAL NEURAL NETWORK**"
      ]
    },
    {
      "cell_type": "code",
      "execution_count": null,
      "metadata": {
        "id": "UQyliyU6Jw_7"
      },
      "outputs": [],
      "source": [
        "model=Sequential()\n",
        "model.add(Conv2D(256,kernel_size=(3,3),activation='relu',input_shape=(28,28,1)))\n",
        "model.add(MaxPooling2D(pool_size=(2,2)))\n",
        "\n",
        "\n",
        "model.add(Conv2D(64,kernel_size=(3,3),activation='relu'))\n",
        "model.add(MaxPooling2D(pool_size=(2,2)))\n",
        "\n",
        "model.add(Flatten())\n",
        "\n",
        "model.add(Dense(64,activation='relu'))\n",
        "model.add(Dense(10,activation='softmax'))"
      ]
    },
    {
      "cell_type": "code",
      "execution_count": null,
      "metadata": {
        "id": "uc9Lkr0J8IB9"
      },
      "outputs": [],
      "source": [
        "model.compile(optimizer='adam',loss='sparse_categorical_crossentropy',metrics=['accuracy'])"
      ]
    },
    {
      "cell_type": "code",
      "execution_count": null,
      "metadata": {
        "colab": {
          "background_save": true,
          "base_uri": "https://localhost:8080/"
        },
        "id": "gqziH0SC8Zz8",
        "outputId": "ca930621-feaf-4c08-d601-c8395d6ebc48"
      },
      "outputs": [
        {
          "name": "stdout",
          "output_type": "stream",
          "text": [
            "Epoch 1/5\n",
            "1875/1875 [==============================] - 314s 167ms/step - loss: 0.4167 - accuracy: 0.8497\n",
            "Epoch 2/5\n",
            "1875/1875 [==============================] - 317s 169ms/step - loss: 0.2992 - accuracy: 0.8908\n",
            "Epoch 3/5\n",
            "1875/1875 [==============================] - 305s 163ms/step - loss: 0.2566 - accuracy: 0.9051\n",
            "Epoch 4/5\n",
            "1875/1875 [==============================] - 305s 163ms/step - loss: 0.2272 - accuracy: 0.9141\n",
            "Epoch 5/5\n",
            "1875/1875 [==============================] - 295s 157ms/step - loss: 0.2037 - accuracy: 0.9236\n"
          ]
        }
      ],
      "source": [
        "history=model.fit(x_train,y_train,epochs=5)"
      ]
    },
    {
      "cell_type": "code",
      "execution_count": null,
      "metadata": {
        "id": "ptWvT8Vd8cI2"
      },
      "outputs": [],
      "source": [
        "loss,accuracy=model.evaluate(x_test,y_test)"
      ]
    },
    {
      "cell_type": "code",
      "execution_count": null,
      "metadata": {
        "id": "KbCTgzuw9wlO"
      },
      "outputs": [],
      "source": [
        "plt.plot(history.history['accuracy'])\n",
        "plt.plot(history.history['val_accuracy'])\n",
        "plt.title('Model accuracy')\n",
        "plt.ylabel('Accuracy')\n",
        "plt.xlabel('Epoch')\n",
        "plt.legend(['Train', 'Test'], loc='upper left')\n",
        "plt.show()\n",
        "\n",
        "# Plot training & validation loss values\n",
        "plt.plot(history.history['loss'])\n",
        "plt.plot(history.history['val_loss'])\n",
        "plt.title('Model loss')\n",
        "plt.ylabel('Loss')\n",
        "plt.xlabel('Epoch')\n",
        "plt.legend(['Train', 'Test'], loc='upper left')\n",
        "plt.show()"
      ]
    },
    {
      "cell_type": "code",
      "execution_count": null,
      "metadata": {
        "id": "F3TGf7KZ_6Ny"
      },
      "outputs": [],
      "source": []
    }
  ],
  "metadata": {
    "colab": {
      "provenance": [],
      "authorship_tag": "ABX9TyNY2OD2TeLKqS4OHQJmu2mr",
      "include_colab_link": true
    },
    "kernelspec": {
      "display_name": "Python 3",
      "name": "python3"
    },
    "language_info": {
      "name": "python"
    }
  },
  "nbformat": 4,
  "nbformat_minor": 0
}